{
 "cells": [
  {
   "cell_type": "code",
   "execution_count": 2,
   "metadata": {},
   "outputs": [
    {
     "name": "stdout",
     "output_type": "stream",
     "text": [
      "12345\n"
     ]
    }
   ],
   "source": [
    "#輸出字串\n",
    "print(12345)"
   ]
  },
  {
   "cell_type": "code",
   "execution_count": 4,
   "metadata": {},
   "outputs": [
    {
     "name": "stdout",
     "output_type": "stream",
     "text": [
      "123.456\n"
     ]
    }
   ],
   "source": [
    "#浮點數\n",
    "print(123.456)"
   ]
  },
  {
   "cell_type": "code",
   "execution_count": 5,
   "metadata": {},
   "outputs": [
    {
     "name": "stdout",
     "output_type": "stream",
     "text": [
      "learning python now!\n"
     ]
    }
   ],
   "source": [
    "#'' \"\" 兩者的意思是一樣的\n",
    "print(\"learning python now!\")"
   ]
  },
  {
   "cell_type": "code",
   "execution_count": 6,
   "metadata": {},
   "outputs": [
    {
     "name": "stdout",
     "output_type": "stream",
     "text": [
      "learning python now!\n"
     ]
    }
   ],
   "source": [
    "print('learning python now!')"
   ]
  },
  {
   "cell_type": "code",
   "execution_count": 7,
   "metadata": {},
   "outputs": [
    {
     "name": "stdout",
     "output_type": "stream",
     "text": [
      "python is fun\n",
      "let 'go\n"
     ]
    }
   ],
   "source": [
    "print('python is fun')\n",
    "print('let \\'go')"
   ]
  },
  {
   "cell_type": "code",
   "execution_count": 8,
   "metadata": {},
   "outputs": [
    {
     "name": "stdout",
     "output_type": "stream",
     "text": [
      "\\n is skip a line\n"
     ]
    }
   ],
   "source": [
    "#\\\\輸出反斜線號\n",
    "print('\\\\n is skip a line')"
   ]
  },
  {
   "cell_type": "code",
   "execution_count": 9,
   "metadata": {},
   "outputs": [
    {
     "name": "stdout",
     "output_type": "stream",
     "text": [
      "learning python now!\n",
      "python is fun\n"
     ]
    }
   ],
   "source": [
    "#\\n 換行\n",
    "print('learning python now!\\npython is fun')"
   ]
  },
  {
   "cell_type": "code",
   "execution_count": 11,
   "metadata": {},
   "outputs": [
    {
     "name": "stdout",
     "output_type": "stream",
     "text": [
      "|\thello,world|\n"
     ]
    }
   ],
   "source": [
    "#\\t 跳8格\n",
    "print('|\\thello,world|')"
   ]
  },
  {
   "cell_type": "code",
   "execution_count": 12,
   "metadata": {},
   "outputs": [
    {
     "name": "stdout",
     "output_type": "stream",
     "text": [
      "radius= 12\n"
     ]
    }
   ],
   "source": [
    "print('radius=',12)"
   ]
  },
  {
   "cell_type": "code",
   "execution_count": 14,
   "metadata": {},
   "outputs": [
    {
     "name": "stdout",
     "output_type": "stream",
     "text": [
      "hello,world\n"
     ]
    }
   ],
   "source": [
    "#不跳行,繼續顯示於同一行.加入=''\n",
    "print('hello,',end='')\n",
    "print('world')"
   ]
  },
  {
   "cell_type": "code",
   "execution_count": 16,
   "metadata": {},
   "outputs": [
    {
     "name": "stdout",
     "output_type": "stream",
     "text": [
      "hello,***world\n"
     ]
    }
   ],
   "source": [
    "print('hello,',end='***')\n",
    "print('world')"
   ]
  },
  {
   "cell_type": "code",
   "execution_count": 18,
   "metadata": {},
   "outputs": [
    {
     "name": "stdout",
     "output_type": "stream",
     "text": [
      "***hello,world,end=***\n",
      "\n",
      "hello,python\n",
      "excellent\n"
     ]
    }
   ],
   "source": [
    "print('***hello,world,end=***')\n",
    "print('')\n",
    "print('hello,python')\n",
    "print('excellent')"
   ]
  },
  {
   "cell_type": "code",
   "execution_count": 19,
   "metadata": {},
   "outputs": [
    {
     "name": "stdout",
     "output_type": "stream",
     "text": [
      "     100\n"
     ]
    }
   ],
   "source": [
    "#format 格式化/ 8d欄位寬8/前面應有五個空白\n",
    "print(format(100,'8d'))"
   ]
  },
  {
   "cell_type": "code",
   "execution_count": 21,
   "metadata": {},
   "outputs": [
    {
     "name": "stdout",
     "output_type": "stream",
     "text": [
      "100000\n"
     ]
    }
   ],
   "source": [
    "#印出100000需要6個空間/但只給3d/所以直接忽略\n",
    "print(format(100000,'3d'))"
   ]
  },
  {
   "cell_type": "code",
   "execution_count": 22,
   "metadata": {},
   "outputs": [
    {
     "name": "stdout",
     "output_type": "stream",
     "text": [
      "      64\n"
     ]
    }
   ],
   "source": [
    "#x 16進制\n",
    "print(format(100,'8x'))"
   ]
  },
  {
   "cell_type": "code",
   "execution_count": 23,
   "metadata": {},
   "outputs": [
    {
     "name": "stdout",
     "output_type": "stream",
     "text": [
      "     144\n"
     ]
    }
   ],
   "source": [
    "#o 8進制\n",
    "print(format(100,'8o'))"
   ]
  },
  {
   "cell_type": "code",
   "execution_count": 24,
   "metadata": {},
   "outputs": [
    {
     "name": "stdout",
     "output_type": "stream",
     "text": [
      " 1100100\n"
     ]
    }
   ],
   "source": [
    "#b 2進制\n",
    "print(format(100,'8b'))"
   ]
  },
  {
   "cell_type": "code",
   "execution_count": 25,
   "metadata": {},
   "outputs": [
    {
     "name": "stdout",
     "output_type": "stream",
     "text": [
      "23.89%\n"
     ]
    }
   ],
   "source": [
    "print(format(0.2389,'6.2%'))"
   ]
  },
  {
   "cell_type": "code",
   "execution_count": 26,
   "metadata": {},
   "outputs": [
    {
     "name": "stdout",
     "output_type": "stream",
     "text": [
      " 23.89%\n"
     ]
    }
   ],
   "source": [
    "print(format(0.2389,'7.2%'))"
   ]
  },
  {
   "cell_type": "code",
   "execution_count": 27,
   "metadata": {},
   "outputs": [
    {
     "name": "stdout",
     "output_type": "stream",
     "text": [
      "  23.89%\n"
     ]
    }
   ],
   "source": [
    "print(format(0.2389,'8.2%'))"
   ]
  },
  {
   "cell_type": "code",
   "execution_count": 28,
   "metadata": {},
   "outputs": [
    {
     "name": "stdout",
     "output_type": "stream",
     "text": [
      "23.89%\n"
     ]
    }
   ],
   "source": [
    "print(format(0.2389,'0.2%'))"
   ]
  },
  {
   "cell_type": "code",
   "execution_count": 29,
   "metadata": {},
   "outputs": [
    {
     "name": "stdout",
     "output_type": "stream",
     "text": [
      "  123.46\n"
     ]
    }
   ],
   "source": [
    "print(format(123.456,'8.2f'))"
   ]
  },
  {
   "cell_type": "code",
   "execution_count": 30,
   "metadata": {},
   "outputs": [
    {
     "name": "stdout",
     "output_type": "stream",
     "text": [
      "python is fun  \n"
     ]
    }
   ],
   "source": [
    "print(format('python is fun','15s'))"
   ]
  },
  {
   "cell_type": "code",
   "execution_count": 31,
   "metadata": {},
   "outputs": [
    {
     "name": "stdout",
     "output_type": "stream",
     "text": [
      "     12345        12   1234567\n",
      "        12   1234567     12345\n",
      "   1234567     12345        12\n"
     ]
    }
   ],
   "source": [
    "print(format(12345,'10d'),end='')\n",
    "print(format(12,'10d'),end='')\n",
    "print(format(1234567,'10d'))\n",
    "\n",
    "print(format(12,'10d'),end='')\n",
    "print(format(1234567,'10d'),end='')\n",
    "print(format(12345,'10d'))\n",
    "\n",
    "print(format(1234567,'10d'),end='')\n",
    "print(format(12345,'10d'),end='')\n",
    "print(format(12,'10d'))"
   ]
  },
  {
   "cell_type": "code",
   "execution_count": null,
   "metadata": {},
   "outputs": [],
   "source": []
  }
 ],
 "metadata": {
  "kernelspec": {
   "display_name": "Python 3",
   "language": "python",
   "name": "python3"
  },
  "language_info": {
   "codemirror_mode": {
    "name": "ipython",
    "version": 3
   },
   "file_extension": ".py",
   "mimetype": "text/x-python",
   "name": "python",
   "nbconvert_exporter": "python",
   "pygments_lexer": "ipython3",
   "version": "3.8.3"
  }
 },
 "nbformat": 4,
 "nbformat_minor": 4
}

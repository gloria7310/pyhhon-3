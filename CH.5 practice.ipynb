{
 "cells": [
  {
   "cell_type": "code",
   "execution_count": 6,
   "metadata": {},
   "outputs": [
    {
     "name": "stdout",
     "output_type": "stream",
     "text": [
      "enter your score:50\n",
      "your score is 50\n"
     ]
    }
   ],
   "source": [
    "#p.5-37 (a)\n",
    "score=eval(input('enter your score:'))\n",
    "if score>=60:\n",
    "   score+=10\n",
    "print('your score is %d'%(score))"
   ]
  },
  {
   "cell_type": "code",
   "execution_count": 7,
   "metadata": {},
   "outputs": [
    {
     "name": "stdout",
     "output_type": "stream",
     "text": [
      "enter your score:60\n",
      "your score is 70\n"
     ]
    }
   ],
   "source": [
    "#p.5-37 (a)\n",
    "score=eval(input('enter your score:'))\n",
    "if score>=60:\n",
    "   score+=10\n",
    "print('your score is %d'%(score))"
   ]
  },
  {
   "cell_type": "code",
   "execution_count": 8,
   "metadata": {},
   "outputs": [
    {
     "name": "stdout",
     "output_type": "stream",
     "text": [
      "enter your score:61\n",
      "your score is 71\n"
     ]
    }
   ],
   "source": [
    "#p.5-37 (a)\n",
    "score=eval(input('enter your score:'))\n",
    "if score>=60:\n",
    "   score+=10\n",
    "print('your score is %d'%(score))"
   ]
  },
  {
   "cell_type": "code",
   "execution_count": 9,
   "metadata": {},
   "outputs": [
    {
     "name": "stdout",
     "output_type": "stream",
     "text": [
      "enter your score:50\n",
      "your score is 58\n"
     ]
    }
   ],
   "source": [
    "#p.5-37(b)\n",
    "score=eval(input('enter your score:'))\n",
    "if score>=60:\n",
    "   score+=10\n",
    "else:\n",
    "    score+=8\n",
    "print('your score is %d'%(score))"
   ]
  },
  {
   "cell_type": "code",
   "execution_count": 10,
   "metadata": {},
   "outputs": [
    {
     "name": "stdout",
     "output_type": "stream",
     "text": [
      "enter your score:60\n",
      "your score is 70\n"
     ]
    }
   ],
   "source": [
    "#p.5-37(b)\n",
    "score=eval(input('enter your score:'))\n",
    "if score>=60:\n",
    "   score+=10\n",
    "else:\n",
    "    score+=8\n",
    "print('your score is %d'%(score))"
   ]
  },
  {
   "cell_type": "code",
   "execution_count": 13,
   "metadata": {},
   "outputs": [
    {
     "name": "stdout",
     "output_type": "stream",
     "text": [
      "enter temperature today:28\n",
      "hot\n",
      "over\n"
     ]
    }
   ],
   "source": [
    "#p.5-37(c)\n",
    "temperature=eval(input('enter temperature today:'))\n",
    "if temperature>=28:\n",
    "    print('hot')\n",
    "else:\n",
    "    print('comfortable')\n",
    "print('over')"
   ]
  },
  {
   "cell_type": "code",
   "execution_count": 14,
   "metadata": {},
   "outputs": [
    {
     "name": "stdout",
     "output_type": "stream",
     "text": [
      "enter temperature today:15\n",
      "comfortable\n",
      "over\n"
     ]
    }
   ],
   "source": [
    "#p.5-37(c)\n",
    "temperature=eval(input('enter temperature today:'))\n",
    "if temperature>=28:\n",
    "    print('hot')\n",
    "else:\n",
    "    print('comfortable')\n",
    "print('over')"
   ]
  },
  {
   "cell_type": "code",
   "execution_count": 15,
   "metadata": {},
   "outputs": [
    {
     "name": "stdout",
     "output_type": "stream",
     "text": [
      "enter temperature today:28\n",
      "hot\n",
      "over\n"
     ]
    }
   ],
   "source": [
    "#p.5-37 (d)\n",
    "temperature=eval(input('enter temperature today:'))\n",
    "if temperature>=28:\n",
    "    print('hot')\n",
    "elif temperature>=22:\n",
    "    print('comfortable')\n",
    "else:\n",
    "    print('cold')\n",
    "print('over')"
   ]
  },
  {
   "cell_type": "code",
   "execution_count": 16,
   "metadata": {},
   "outputs": [
    {
     "name": "stdout",
     "output_type": "stream",
     "text": [
      "enter temperature today:22\n",
      "comfortable\n",
      "over\n"
     ]
    }
   ],
   "source": [
    "#p.5-37 (d)\n",
    "temperature=eval(input('enter temperature today:'))\n",
    "if temperature>=28:\n",
    "    print('hot')\n",
    "elif temperature>=22:\n",
    "    print('comfortable')\n",
    "else:\n",
    "    print('cold')\n",
    "print('over')"
   ]
  },
  {
   "cell_type": "code",
   "execution_count": 17,
   "metadata": {},
   "outputs": [
    {
     "name": "stdout",
     "output_type": "stream",
     "text": [
      "enter temperature today:5\n",
      "cold\n",
      "over\n"
     ]
    }
   ],
   "source": [
    "#p.5-37 (d)\n",
    "temperature=eval(input('enter temperature today:'))\n",
    "if temperature>=28:\n",
    "    print('hot')\n",
    "elif temperature>=22:\n",
    "    print('comfortable')\n",
    "else:\n",
    "    print('cold')\n",
    "print('over')"
   ]
  },
  {
   "cell_type": "code",
   "execution_count": 18,
   "metadata": {},
   "outputs": [
    {
     "name": "stdout",
     "output_type": "stream",
     "text": [
      "enter temperature today:28\n",
      "enter humility today:40\n",
      "hot\n",
      "over\n"
     ]
    }
   ],
   "source": [
    "#p.3-38 (e)\n",
    "temperature=eval(input('enter temperature today:'))\n",
    "humility=eval(input('enter humility today:'))\n",
    "if temperature>=28:\n",
    "    print('hot')\n",
    "elif temperature>=22 and humility>=40 and humility<=50:\n",
    "    print('comfortable')\n",
    "else:\n",
    "    print('cold')\n",
    "print('over')"
   ]
  },
  {
   "cell_type": "code",
   "execution_count": 19,
   "metadata": {},
   "outputs": [
    {
     "name": "stdout",
     "output_type": "stream",
     "text": [
      "enter temperature today:25\n",
      "enter humility today:60\n",
      "cold\n",
      "over\n"
     ]
    }
   ],
   "source": [
    "#p.3-38 (e)\n",
    "temperature=eval(input('enter temperature today:'))\n",
    "humility=eval(input('enter humility today:'))\n",
    "if temperature>=28:\n",
    "    print('hot')\n",
    "elif temperature>=22 and humility>=40 and humility<=50:\n",
    "    print('comfortable')\n",
    "else:\n",
    "    print('cold')\n",
    "print('over')\n"
   ]
  },
  {
   "cell_type": "code",
   "execution_count": 20,
   "metadata": {},
   "outputs": [
    {
     "name": "stdout",
     "output_type": "stream",
     "text": [
      "enter temperature today:22\n",
      "enter humility today:44\n",
      "comfortable\n",
      "over\n"
     ]
    }
   ],
   "source": [
    "#p.3-38 (e)\n",
    "temperature=eval(input('enter temperature today:'))\n",
    "humility=eval(input('enter humility today:'))\n",
    "if temperature>=28:\n",
    "    print('hot')\n",
    "elif temperature>=22 and humility>=40 and humility<=50:\n",
    "    print('comfortable')\n",
    "else:\n",
    "    print('cold')\n",
    "print('over')"
   ]
  },
  {
   "cell_type": "code",
   "execution_count": 21,
   "metadata": {},
   "outputs": [
    {
     "name": "stdout",
     "output_type": "stream",
     "text": [
      "enter a character:emma\n",
      "emma is other charater\n"
     ]
    }
   ],
   "source": [
    "#p.5-38 (f)\n",
    "char=input('enter a character:')\n",
    "if char>='a' and char >='z':\n",
    "    print('%c is lowercase character'%(char))\n",
    "elif char >='A' and char<= 'Z':\n",
    "    print('%c is uppercase character'%(char))\n",
    "else:\n",
    "    print('%s is other charater'%(char))"
   ]
  },
  {
   "cell_type": "code",
   "execution_count": 22,
   "metadata": {},
   "outputs": [
    {
     "name": "stdout",
     "output_type": "stream",
     "text": [
      "enter a character:ann\n",
      "ann is other charater\n"
     ]
    }
   ],
   "source": [
    "#p.5-38 (f)\n",
    "char=input('enter a character:')\n",
    "if char>='a' and char >='z':\n",
    "    print('%c is lowercase character'%(char))\n",
    "elif char >='A' and char<= 'Z':\n",
    "    print('%c is uppercase character'%(char))\n",
    "else:\n",
    "    print('%s is other charater'%(char))"
   ]
  },
  {
   "cell_type": "code",
   "execution_count": 23,
   "metadata": {},
   "outputs": [
    {
     "name": "stdout",
     "output_type": "stream",
     "text": [
      "enter a character:david\n",
      "david is other charater\n"
     ]
    }
   ],
   "source": [
    "#p.5-38 (f)\n",
    "char=input('enter a character:')\n",
    "if char>='a' and char >='z':\n",
    "    print('%c is lowercase character'%(char))\n",
    "elif char >='A' and char<= 'Z':\n",
    "    print('%c is uppercase character'%(char))\n",
    "else:\n",
    "    print('%s is other charater'%(char))"
   ]
  },
  {
   "cell_type": "code",
   "execution_count": 24,
   "metadata": {},
   "outputs": [
    {
     "name": "stdout",
     "output_type": "stream",
     "text": [
      "enter a character:l\n",
      "l is other charater\n"
     ]
    }
   ],
   "source": [
    "#p.5-38 (f)\n",
    "char=input('enter a character:')\n",
    "if char>='a' and char >='z':\n",
    "    print('%c is lowercase character'%(char))\n",
    "elif char >='A' and char<= 'Z':\n",
    "    print('%c is uppercase character'%(char))\n",
    "else:\n",
    "    print('%s is other charater'%(char))"
   ]
  },
  {
   "cell_type": "code",
   "execution_count": 25,
   "metadata": {},
   "outputs": [
    {
     "name": "stdout",
     "output_type": "stream",
     "text": [
      "enter a character:chris hemsworth\n",
      "chris hemsworth is other charater\n"
     ]
    }
   ],
   "source": [
    "#p.5-38 (f)\n",
    "char=input('enter a character:')\n",
    "if char>='a' and char >='z':\n",
    "    print('%c is lowercase character'%(char))\n",
    "elif char >='A' and char<= 'Z':\n",
    "    print('%c is uppercase character'%(char))\n",
    "else:\n",
    "    print('%s is other charater'%(char))"
   ]
  },
  {
   "cell_type": "code",
   "execution_count": 26,
   "metadata": {},
   "outputs": [
    {
     "name": "stdout",
     "output_type": "stream",
     "text": [
      "enter a character:jack\n",
      "jack is other charater\n"
     ]
    }
   ],
   "source": [
    "#p.5-38 (f)\n",
    "char=input('enter a character:')\n",
    "if char>='a' and char >='z':\n",
    "    print('%c is lowercase character'%(char))\n",
    "elif char >='A' and char<= 'Z':\n",
    "    print('%c is uppercase character'%(char))\n",
    "else:\n",
    "    print('%s is other charater'%(char))"
   ]
  },
  {
   "cell_type": "code",
   "execution_count": 30,
   "metadata": {},
   "outputs": [
    {
     "name": "stdout",
     "output_type": "stream",
     "text": [
      "enter a character:kk\n",
      "kk is other charater\n"
     ]
    }
   ],
   "source": [
    "#p.5-38 (f)\n",
    "char=input('enter a character:')\n",
    "if char>='a' and char >='z':\n",
    "    print('%c is lowercase character'%(char))\n",
    "elif char >='A' and char<= 'Z':\n",
    "    print('%c is uppercase character'%(char))\n",
    "else:\n",
    "    print('%s is other charater'%(char))"
   ]
  },
  {
   "cell_type": "code",
   "execution_count": 32,
   "metadata": {},
   "outputs": [
    {
     "name": "stdout",
     "output_type": "stream",
     "text": [
      "enter a character:mark\n",
      "mark is other charater\n"
     ]
    }
   ],
   "source": [
    "#p.5-38 (f)\n",
    "char=input('enter a character:')\n",
    "if char>='a' and char >='z':\n",
    "    print('%c is lowercase character'%(char))\n",
    "elif char >='A' and char<= 'Z':\n",
    "    print('%c is uppercase character'%(char))\n",
    "else:\n",
    "    print('%s is other charater'%(char))"
   ]
  },
  {
   "cell_type": "code",
   "execution_count": 33,
   "metadata": {},
   "outputs": [
    {
     "name": "stdout",
     "output_type": "stream",
     "text": [
      "enter a number:50\n",
      "50is even number.\n",
      "test is over\n"
     ]
    }
   ],
   "source": [
    "#p.5-39 (g)\n",
    "num=eval(input('enter a number:'))\n",
    "if num % 2 == 0:\n",
    "    print('%d'%(num),end='')\n",
    "    print('is even number.')\n",
    "else:\n",
    "    print('%d'%(num),end='')\n",
    "    print('is odd number.')\n",
    "print('test is over')"
   ]
  },
  {
   "cell_type": "code",
   "execution_count": 34,
   "metadata": {},
   "outputs": [
    {
     "name": "stdout",
     "output_type": "stream",
     "text": [
      "enter a number:55\n",
      "55is odd number.\n",
      "test is over\n"
     ]
    }
   ],
   "source": [
    "#p.5-39 (g)\n",
    "num=eval(input('enter a number:'))\n",
    "if num % 2 == 0:\n",
    "    print('%d'%(num),end='')\n",
    "    print('is even number.')\n",
    "else:\n",
    "    print('%d'%(num),end='')\n",
    "    print('is odd number.')\n",
    "print('test is over')"
   ]
  },
  {
   "cell_type": "code",
   "execution_count": null,
   "metadata": {},
   "outputs": [],
   "source": []
  }
 ],
 "metadata": {
  "kernelspec": {
   "display_name": "Python 3",
   "language": "python",
   "name": "python3"
  },
  "language_info": {
   "codemirror_mode": {
    "name": "ipython",
    "version": 3
   },
   "file_extension": ".py",
   "mimetype": "text/x-python",
   "name": "python",
   "nbconvert_exporter": "python",
   "pygments_lexer": "ipython3",
   "version": "3.8.3"
  }
 },
 "nbformat": 4,
 "nbformat_minor": 4
}

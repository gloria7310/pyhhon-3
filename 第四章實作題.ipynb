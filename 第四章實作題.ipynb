{
 "cells": [
  {
   "cell_type": "code",
   "execution_count": 13,
   "metadata": {},
   "outputs": [
    {
     "name": "stdout",
     "output_type": "stream",
     "text": [
      "邊數:5\n",
      "邊長:6.5\n",
      "72.69017017488386\n"
     ]
    }
   ],
   "source": [
    "# 1\n",
    "import math\n",
    "n=eval(input('邊數:'))\n",
    "s=eval(input('邊長:'))\n",
    "area=(n*s*s)/(4*math.tan(math.pi/n))\n",
    "print(area)"
   ]
  },
  {
   "cell_type": "code",
   "execution_count": 14,
   "metadata": {},
   "outputs": [],
   "source": [
    "import math"
   ]
  },
  {
   "cell_type": "code",
   "execution_count": 18,
   "metadata": {},
   "outputs": [
    {
     "name": "stdout",
     "output_type": "stream",
     "text": [
      "x1:2\n",
      "y1:1\n",
      "x2:5.5\n",
      "y2:8\n",
      "7.826237921249264\n"
     ]
    }
   ],
   "source": [
    "# 2\n",
    "import math\n",
    "x1=eval(input('x1:'))\n",
    "y1=eval(input('y1:'))\n",
    "x2=eval(input('x2:'))\n",
    "y2=eval(input('y2:'))\n",
    "a=(x1-x2)*(x1-x2)\n",
    "b=(y1-y2)*(y1-y2)\n",
    "distance=math.sqrt(a+b)\n",
    "print(distance)"
   ]
  },
  {
   "cell_type": "code",
   "execution_count": 19,
   "metadata": {},
   "outputs": [
    {
     "name": "stdout",
     "output_type": "stream",
     "text": [
      "邊長a:6\n",
      "邊長b:6\n",
      "邊長c:6\n",
      "15.588457268119896\n"
     ]
    }
   ],
   "source": [
    "# 5\n",
    "import math\n",
    "a=eval(input('邊長a:'))\n",
    "b=eval(input('邊長b:'))\n",
    "c=eval(input('邊長c:'))\n",
    "s=(a+b+c)/2\n",
    "area=math.sqrt(s*(s-a)*(s-b)*(s-c))\n",
    "print(area)"
   ]
  },
  {
   "cell_type": "code",
   "execution_count": null,
   "metadata": {},
   "outputs": [],
   "source": [
    "# 6\n"
   ]
  }
 ],
 "metadata": {
  "kernelspec": {
   "display_name": "Python 3",
   "language": "python",
   "name": "python3"
  },
  "language_info": {
   "codemirror_mode": {
    "name": "ipython",
    "version": 3
   },
   "file_extension": ".py",
   "mimetype": "text/x-python",
   "name": "python",
   "nbconvert_exporter": "python",
   "pygments_lexer": "ipython3",
   "version": "3.7.3"
  }
 },
 "nbformat": 4,
 "nbformat_minor": 2
}

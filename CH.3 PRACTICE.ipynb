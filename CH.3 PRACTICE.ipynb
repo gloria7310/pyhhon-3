{
 "cells": [
  {
   "cell_type": "code",
   "execution_count": 2,
   "metadata": {},
   "outputs": [
    {
     "name": "stdout",
     "output_type": "stream",
     "text": [
      "enter height:10\n",
      "enter weight:10\n",
      "10\n",
      "10\n",
      "40\n",
      "100\n"
     ]
    }
   ],
   "source": [
    "# p.3-29(1)\n",
    "height=eval(input('enter height:'))\n",
    "weight=eval(input('enter weight:'))\n",
    "perimeter=2*height+2*weight\n",
    "area=height*weight\n",
    "print(height)\n",
    "print(weight)\n",
    "print(perimeter)\n",
    "print(area)"
   ]
  },
  {
   "cell_type": "code",
   "execution_count": 4,
   "metadata": {},
   "outputs": [
    {
     "name": "stdout",
     "output_type": "stream",
     "text": [
      "enter triangle's length:15\n",
      "12.990381056766578\n",
      "97.42785792574934\n"
     ]
    }
   ],
   "source": [
    "# p.3-29 (2)\n",
    "s=eval(input('enter triangle\\'s length:'))\n",
    "height=3**0.5/2*s\n",
    "area=3**0.5/4*s**2\n",
    "print(height)\n",
    "print(area)"
   ]
  },
  {
   "cell_type": "code",
   "execution_count": 5,
   "metadata": {},
   "outputs": [
    {
     "name": "stdout",
     "output_type": "stream",
     "text": [
      "enter triangle's length:100\n",
      "86.60254037844386\n",
      "4330.127018922193\n"
     ]
    }
   ],
   "source": [
    "# p.3-29 (2)\n",
    "s=eval(input('enter triangle\\'s length:'))\n",
    "height=3**0.5/2*s\n",
    "area=3**0.5/4*s**2\n",
    "print(height)\n",
    "print(area)"
   ]
  },
  {
   "cell_type": "code",
   "execution_count": 14,
   "metadata": {},
   "outputs": [
    {
     "name": "stdout",
     "output_type": "stream",
     "text": [
      "enter x minute:5\n",
      "enter y sceond:10\n",
      "enter z kilometer:3\n",
      "55.741935483870975\n"
     ]
    }
   ],
   "source": [
    "# p.3-29 (3)\n",
    "x=eval(input('enter x minute:'))\n",
    "y=eval(input('enter y sceond:'))\n",
    "z=eval(input('enter z kilometer:'))\n",
    "a=60*x+y\n",
    "hour=a/3600\n",
    "b=1.6*z\n",
    "speed=b/hour\n",
    "print(speed)"
   ]
  },
  {
   "cell_type": "code",
   "execution_count": 15,
   "metadata": {},
   "outputs": [
    {
     "name": "stdout",
     "output_type": "stream",
     "text": [
      "enter x minute:10\n",
      "enter y sceond:25\n",
      "enter z kilometer:3\n",
      "27.648000000000007\n"
     ]
    }
   ],
   "source": [
    "# p.3-29 (3)\n",
    "x=eval(input('enter x minute:'))\n",
    "y=eval(input('enter y sceond:'))\n",
    "z=eval(input('enter z kilometer:'))\n",
    "a=60*x+y\n",
    "hour=a/3600\n",
    "b=1.6*z\n",
    "speed=b/hour\n",
    "print(speed)"
   ]
  },
  {
   "cell_type": "code",
   "execution_count": 17,
   "metadata": {},
   "outputs": [
    {
     "name": "stdout",
     "output_type": "stream",
     "text": [
      "enter miles:2\n",
      "4.800000000000001\n"
     ]
    }
   ],
   "source": [
    "# p.3-30 (4)\n",
    "a=eval(input('enter miles:'))\n",
    "a=1.6*b\n",
    "print(b)"
   ]
  },
  {
   "cell_type": "code",
   "execution_count": 19,
   "metadata": {},
   "outputs": [
    {
     "name": "stdout",
     "output_type": "stream",
     "text": [
      "enter fahrenheit:95\n",
      "35.0\n"
     ]
    }
   ],
   "source": [
    "# (5)\n",
    "a=eval(input('enter fahrenheit:'))\n",
    "b=(a-32)*5/9\n",
    "print(b)"
   ]
  },
  {
   "cell_type": "code",
   "execution_count": 20,
   "metadata": {},
   "outputs": [
    {
     "name": "stdout",
     "output_type": "stream",
     "text": [
      "each integer:1\n",
      "each integer:1\n",
      "each integer:1\n",
      "3\n",
      "1.0\n"
     ]
    }
   ],
   "source": [
    "# (6)\n",
    "a=eval(input('each integer:'))\n",
    "b=eval(input('each integer:'))\n",
    "c=eval(input('each integer:'))\n",
    "d=a+b+c\n",
    "e=(a+b+c)/3\n",
    "print(d)\n",
    "print(e)"
   ]
  },
  {
   "cell_type": "code",
   "execution_count": 25,
   "metadata": {},
   "outputs": [
    {
     "name": "stdout",
     "output_type": "stream",
     "text": [
      "name:王寧暄\n",
      "number:109230077\n",
      "address:苗栗國\n",
      "王寧暄\n",
      "109230077\n",
      "苗栗國\n"
     ]
    }
   ],
   "source": [
    "# (7)\n",
    "a=input('name:')\n",
    "b=eval(input('number:'))\n",
    "c=input('address:')\n",
    "print(a)\n",
    "print(b)\n",
    "print(c)"
   ]
  },
  {
   "cell_type": "code",
   "execution_count": 27,
   "metadata": {},
   "outputs": [
    {
     "name": "stdout",
     "output_type": "stream",
     "text": [
      "r:10\n",
      "314.0\n",
      "62.800000000000004\n"
     ]
    }
   ],
   "source": [
    "# (8)\n",
    "a=eval(input('r:'))\n",
    "area=3.14*a**2\n",
    "perimeter=2*3.14*a\n",
    "print(area)\n",
    "print(perimeter)"
   ]
  },
  {
   "cell_type": "code",
   "execution_count": null,
   "metadata": {},
   "outputs": [],
   "source": []
  }
 ],
 "metadata": {
  "kernelspec": {
   "display_name": "Python 3",
   "language": "python",
   "name": "python3"
  },
  "language_info": {
   "codemirror_mode": {
    "name": "ipython",
    "version": 3
   },
   "file_extension": ".py",
   "mimetype": "text/x-python",
   "name": "python",
   "nbconvert_exporter": "python",
   "pygments_lexer": "ipython3",
   "version": "3.7.3"
  }
 },
 "nbformat": 4,
 "nbformat_minor": 2
}
